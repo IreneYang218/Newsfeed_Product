{
 "cells": [
  {
   "cell_type": "code",
   "execution_count": 1,
   "metadata": {},
   "outputs": [],
   "source": [
    "import numpy as np\n",
    "import pandas as pd"
   ]
  },
  {
   "cell_type": "code",
   "execution_count": 2,
   "metadata": {},
   "outputs": [],
   "source": [
    "data = pd.read_excel(\"sample_data.xls\")"
   ]
  },
  {
   "cell_type": "code",
   "execution_count": 3,
   "metadata": {},
   "outputs": [
    {
     "name": "stdout",
     "output_type": "stream",
     "text": [
      "<class 'pandas.core.frame.DataFrame'>\n",
      "RangeIndex: 100 entries, 0 to 99\n",
      "Data columns (total 30 columns):\n",
      "Post Link                             100 non-null object\n",
      "Post Order in Thread                  100 non-null int64\n",
      "Author                                62 non-null object\n",
      "Post Publication Date                 100 non-null object\n",
      "Title                                 95 non-null object\n",
      "Text                                  100 non-null object\n",
      "Language                              100 non-null object\n",
      "External Links                        27 non-null object\n",
      "Mentioned Persons (positive)          1 non-null object\n",
      "Mentioned Persons (negative)          13 non-null object\n",
      "Mentioned Persons (neutral)           1 non-null object\n",
      "Mentioned Persons (none)              73 non-null object\n",
      "Mentioned Locations                   68 non-null object\n",
      "Mentioned Organizations (positive)    1 non-null object\n",
      "Mentioned Organizations (negative)    13 non-null object\n",
      "Mentioned Organizations (neutral)     5 non-null object\n",
      "Mentioned Organizations (none)        77 non-null object\n",
      "Thread Link                           100 non-null object\n",
      "Title.1                               100 non-null object\n",
      "Section Link                          55 non-null object\n",
      "Section Title                         55 non-null object\n",
      "Thread Publication Date               100 non-null object\n",
      "Comments Count                        100 non-null int64\n",
      "Participants Count                    100 non-null int64\n",
      "Site Type                             100 non-null object\n",
      "Site Name                             100 non-null object\n",
      "Site Country                          100 non-null object\n",
      "Main Image                            97 non-null object\n",
      "Performance Score                     100 non-null int64\n",
      "Rating                                0 non-null float64\n",
      "dtypes: float64(1), int64(4), object(25)\n",
      "memory usage: 23.5+ KB\n"
     ]
    }
   ],
   "source": [
    "data.info()"
   ]
  },
  {
   "cell_type": "code",
   "execution_count": 4,
   "metadata": {},
   "outputs": [
    {
     "data": {
      "text/plain": [
       "Index(['Post Link', 'Post Order in Thread', 'Author', 'Post Publication Date',\n",
       "       'Title', 'Text', 'Language', 'External Links',\n",
       "       'Mentioned Persons (positive)', 'Mentioned Persons (negative)',\n",
       "       'Mentioned Persons (neutral)', 'Mentioned Persons (none)',\n",
       "       'Mentioned Locations', 'Mentioned Organizations (positive)',\n",
       "       'Mentioned Organizations (negative)',\n",
       "       'Mentioned Organizations (neutral)', 'Mentioned Organizations (none)',\n",
       "       'Thread Link', 'Title.1', 'Section Link', 'Section Title',\n",
       "       'Thread Publication Date', 'Comments Count', 'Participants Count',\n",
       "       'Site Type', 'Site Name', 'Site Country', 'Main Image',\n",
       "       'Performance Score', 'Rating'],\n",
       "      dtype='object')"
      ]
     },
     "execution_count": 4,
     "metadata": {},
     "output_type": "execute_result"
    }
   ],
   "source": [
    "data.columns"
   ]
  },
  {
   "cell_type": "code",
   "execution_count": 5,
   "metadata": {},
   "outputs": [],
   "source": [
    "used_columns =[\"Title\", \"Author\", \"Post Publication Date\", \"Site Name\", \"Main Image\", \"Post Link\"]\n",
    "output = data[used_columns]"
   ]
  },
  {
   "cell_type": "code",
   "execution_count": 6,
   "metadata": {},
   "outputs": [
    {
     "data": {
      "text/html": [
       "<div>\n",
       "<style scoped>\n",
       "    .dataframe tbody tr th:only-of-type {\n",
       "        vertical-align: middle;\n",
       "    }\n",
       "\n",
       "    .dataframe tbody tr th {\n",
       "        vertical-align: top;\n",
       "    }\n",
       "\n",
       "    .dataframe thead th {\n",
       "        text-align: right;\n",
       "    }\n",
       "</style>\n",
       "<table border=\"1\" class=\"dataframe\">\n",
       "  <thead>\n",
       "    <tr style=\"text-align: right;\">\n",
       "      <th></th>\n",
       "      <th>Title</th>\n",
       "      <th>Author</th>\n",
       "      <th>Post Publication Date</th>\n",
       "      <th>Site Name</th>\n",
       "      <th>Main Image</th>\n",
       "      <th>Post Link</th>\n",
       "    </tr>\n",
       "  </thead>\n",
       "  <tbody>\n",
       "    <tr>\n",
       "      <th>0</th>\n",
       "      <td>Stones postpone North American tour as Jagger ...</td>\n",
       "      <td>NaN</td>\n",
       "      <td>2019-03-30T03:00:00.000+03:00</td>\n",
       "      <td>tricitynews.com</td>\n",
       "      <td>https://images.glaciermedia.ca/polopoly_fs/1.2...</td>\n",
       "      <td>https://www.tricitynews.com/stones-postpone-no...</td>\n",
       "    </tr>\n",
       "    <tr>\n",
       "      <th>1</th>\n",
       "      <td>Canadians share uncensored opinions about bad ...</td>\n",
       "      <td>Mario Canseco</td>\n",
       "      <td>2019-03-28T02:00:00.000+02:00</td>\n",
       "      <td>tricitynews.com</td>\n",
       "      <td>https://images.glaciermedia.ca/polopoly_fs/1.2...</td>\n",
       "      <td>https://www.tricitynews.com/canadians-share-un...</td>\n",
       "    </tr>\n",
       "    <tr>\n",
       "      <th>2</th>\n",
       "      <td>Raptors' McCaw sidelined for at least three we...</td>\n",
       "      <td>NaN</td>\n",
       "      <td>2019-03-30T03:00:00.000+03:00</td>\n",
       "      <td>tricitynews.com</td>\n",
       "      <td>https://images.glaciermedia.ca/polopoly_fs/1.2...</td>\n",
       "      <td>https://www.tricitynews.com/raptors-mccaw-side...</td>\n",
       "    </tr>\n",
       "    <tr>\n",
       "      <th>3</th>\n",
       "      <td>Credit union liquidated as manager charged wit...</td>\n",
       "      <td>NaN</td>\n",
       "      <td>2019-03-29T03:00:00.000+03:00</td>\n",
       "      <td>tricitynews.com</td>\n",
       "      <td>https://images.glaciermedia.ca/polopoly_fs/1.2...</td>\n",
       "      <td>https://www.tricitynews.com/credit-union-liqui...</td>\n",
       "    </tr>\n",
       "    <tr>\n",
       "      <th>4</th>\n",
       "      <td>Pet safety a worry as coyote pup season gets u...</td>\n",
       "      <td>NaN</td>\n",
       "      <td>2019-03-29T03:00:00.000+03:00</td>\n",
       "      <td>tricitynews.com</td>\n",
       "      <td>https://images.glaciermedia.ca/polopoly_fs/1.2...</td>\n",
       "      <td>https://www.tricitynews.com/news/pet-safety-a-...</td>\n",
       "    </tr>\n",
       "  </tbody>\n",
       "</table>\n",
       "</div>"
      ],
      "text/plain": [
       "                                               Title         Author  \\\n",
       "0  Stones postpone North American tour as Jagger ...            NaN   \n",
       "1  Canadians share uncensored opinions about bad ...  Mario Canseco   \n",
       "2  Raptors' McCaw sidelined for at least three we...            NaN   \n",
       "3  Credit union liquidated as manager charged wit...            NaN   \n",
       "4  Pet safety a worry as coyote pup season gets u...            NaN   \n",
       "\n",
       "           Post Publication Date        Site Name  \\\n",
       "0  2019-03-30T03:00:00.000+03:00  tricitynews.com   \n",
       "1  2019-03-28T02:00:00.000+02:00  tricitynews.com   \n",
       "2  2019-03-30T03:00:00.000+03:00  tricitynews.com   \n",
       "3  2019-03-29T03:00:00.000+03:00  tricitynews.com   \n",
       "4  2019-03-29T03:00:00.000+03:00  tricitynews.com   \n",
       "\n",
       "                                          Main Image  \\\n",
       "0  https://images.glaciermedia.ca/polopoly_fs/1.2...   \n",
       "1  https://images.glaciermedia.ca/polopoly_fs/1.2...   \n",
       "2  https://images.glaciermedia.ca/polopoly_fs/1.2...   \n",
       "3  https://images.glaciermedia.ca/polopoly_fs/1.2...   \n",
       "4  https://images.glaciermedia.ca/polopoly_fs/1.2...   \n",
       "\n",
       "                                           Post Link  \n",
       "0  https://www.tricitynews.com/stones-postpone-no...  \n",
       "1  https://www.tricitynews.com/canadians-share-un...  \n",
       "2  https://www.tricitynews.com/raptors-mccaw-side...  \n",
       "3  https://www.tricitynews.com/credit-union-liqui...  \n",
       "4  https://www.tricitynews.com/news/pet-safety-a-...  "
      ]
     },
     "execution_count": 6,
     "metadata": {},
     "output_type": "execute_result"
    }
   ],
   "source": [
    "output.head()"
   ]
  },
  {
   "cell_type": "code",
   "execution_count": 7,
   "metadata": {},
   "outputs": [],
   "source": [
    "output = output[~output[['Title','Main Image']].isnull().any(axis=1)]"
   ]
  },
  {
   "cell_type": "code",
   "execution_count": 10,
   "metadata": {},
   "outputs": [],
   "source": [
    "output.to_csv('sample_data.csv', index=False)"
   ]
  },
  {
   "cell_type": "code",
   "execution_count": null,
   "metadata": {},
   "outputs": [],
   "source": []
  }
 ],
 "metadata": {
  "kernelspec": {
   "display_name": "Python 3",
   "language": "python",
   "name": "python3"
  },
  "language_info": {
   "codemirror_mode": {
    "name": "ipython",
    "version": 3
   },
   "file_extension": ".py",
   "mimetype": "text/x-python",
   "name": "python",
   "nbconvert_exporter": "python",
   "pygments_lexer": "ipython3",
   "version": "3.6.6"
  }
 },
 "nbformat": 4,
 "nbformat_minor": 2
}
