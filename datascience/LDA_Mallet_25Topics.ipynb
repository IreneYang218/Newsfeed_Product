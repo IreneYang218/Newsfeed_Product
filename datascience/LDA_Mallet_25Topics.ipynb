{
 "cells": [
  {
   "cell_type": "code",
   "execution_count": 25,
   "metadata": {},
   "outputs": [],
   "source": [
    "from texts2id_corpus import *\n",
    "import pandas as pd\n",
    "import numpy as np\n",
    "import spacy\n",
    "import gensim \n",
    "import gensim.corpora as corpora\n",
    "from gensim.utils import simple_preprocess\n",
    "from gensim.models import CoherenceModel\n",
    "# import pyLDAvis\n",
    "# import pyLDAvis.gensim  # don't skip this\n",
    "import matplotlib.pyplot as plt\n",
    "%matplotlib inline\n",
    "import warnings\n",
    "from pprint import pprint\n",
    "import time \n",
    "warnings.filterwarnings(\"ignore\",category=DeprecationWarning)"
   ]
  },
  {
   "cell_type": "markdown",
   "metadata": {},
   "source": [
    "### Import Dataset"
   ]
  },
  {
   "cell_type": "code",
   "execution_count": 26,
   "metadata": {},
   "outputs": [],
   "source": [
    "df = pd.read_csv('news_clean_march_with_title.csv')"
   ]
  },
  {
   "cell_type": "code",
   "execution_count": 27,
   "metadata": {},
   "outputs": [
    {
     "data": {
      "text/plain": [
       "\"(RTTNews) - Indian shares opened notably higher on Monday amid bets the RBI will cut interest rates at its upcoming policy meeting on April 4. Firm cues from global markets also underpinned investor sentiment.\\nOther Asian markets remained broadly higher amid optimism about U.S.-China trade talks and as data showed China's factory activity in March unexpectedly grew for the first time in fourth months.\\nThe benchmark BSE Sensex was up 270 points or 0.70 percent at 38,943 while the broader Nifty index was up 71 points or 0.61 percent at 11,695.\\nSBI rose over 1 percent on reports that it is charting a new course for the revival of Jet Airways.\\nBank of Baroda rallied nearly 2 percent after it became the third largest lender in the country with the merger of Dena Bank and Vijaya Bank.\\nCipla shed 0.7 percent after receiving eight good manufacturing practice observations from the U.S. FDA.\\nTata Motors soared 5 percent after selling its shareholding in TAL Manufacturing Solutions to TASL.\\nWelspun Corp jumped 7.4 percent on news it is selling assets worth Rs. 940 crore.\\nU.S. stocks rose on Friday to notch their biggest quarterly gains in a decade as investors held out hopes for a U.S.-China trade deal. The Dow and the tech-heavy Nasdaq Composite gained around 0.8 percent while the S&P 500 added 0.7 percent.\\nEuropean markets also finished Friday's session higher as investors reacted to a slew of economic data from the region and news about the defeat of British Prime Minister Theresa May's Brexit deal.\\nThe pan European Stoxx 600 added 0.6 percent. The German DAX gained 0.9 percent, France's CAC 40 index jumped 1 percent and the U.K.'s FTSE 100 rose 0.6 percent.\""
      ]
     },
     "execution_count": 27,
     "metadata": {},
     "output_type": "execute_result"
    }
   ],
   "source": [
    "df.text.iloc[0]"
   ]
  },
  {
   "cell_type": "markdown",
   "metadata": {},
   "source": [
    "### Preprocess Data"
   ]
  },
  {
   "cell_type": "markdown",
   "metadata": {},
   "source": [
    "Here we are going to use the the title of the news and the first paragraph(at least has more than 20 words) as the input of our lda topic models. To preprocess the data, we tokenized words, removed stop words, created trigram words and did the lemmatization. We also create the Dictionary and Corpus as the input of the dataset. Here we applied a texts2id_corpus.py file we defined for preprocess."
   ]
  },
  {
   "cell_type": "code",
   "execution_count": 28,
   "metadata": {},
   "outputs": [],
   "source": [
    "def para_filter(x):\n",
    "    para = x.split('\\n')\n",
    "    for p in para:\n",
    "        if len(p.split(' '))>=20:\n",
    "            return p"
   ]
  },
  {
   "cell_type": "code",
   "execution_count": 19,
   "metadata": {},
   "outputs": [],
   "source": [
    "df = df.drop([13338,47335]) # the text has no paragraph length l"
   ]
  },
  {
   "cell_type": "code",
   "execution_count": 20,
   "metadata": {},
   "outputs": [],
   "source": [
    "para_len = df.text.apply(lambda x: para_filter(x))"
   ]
  },
  {
   "cell_type": "code",
   "execution_count": 21,
   "metadata": {},
   "outputs": [],
   "source": [
    "train_text = df.title+' '+para_len"
   ]
  },
  {
   "cell_type": "code",
   "execution_count": 22,
   "metadata": {},
   "outputs": [
    {
     "data": {
      "text/plain": [
       "Series([], dtype: object)"
      ]
     },
     "execution_count": 22,
     "metadata": {},
     "output_type": "execute_result"
    }
   ],
   "source": [
    "train_text[train_text.isnull()]"
   ]
  },
  {
   "cell_type": "code",
   "execution_count": 23,
   "metadata": {},
   "outputs": [
    {
     "data": {
      "text/plain": [
       "False    51694\n",
       "dtype: int64"
      ]
     },
     "execution_count": 23,
     "metadata": {},
     "output_type": "execute_result"
    }
   ],
   "source": [
    "train_text = train_text.dropna()\n",
    "train_text.isnull().value_counts()"
   ]
  },
  {
   "cell_type": "code",
   "execution_count": 24,
   "metadata": {},
   "outputs": [
    {
     "name": "stdout",
     "output_type": "stream",
     "text": [
      "338.6564128398895\n"
     ]
    }
   ],
   "source": [
    "start = time.time()\n",
    "texts = train_text.tolist()\n",
    "id2text, corpus, words_lemmatized  = text2corpus(texts, num_gram=3)\n",
    "end = time.time()\n",
    "print(end-start)"
   ]
  },
  {
   "cell_type": "code",
   "execution_count": 32,
   "metadata": {},
   "outputs": [
    {
     "data": {
      "text/plain": [
       "51694"
      ]
     },
     "execution_count": 32,
     "metadata": {},
     "output_type": "execute_result"
    }
   ],
   "source": [
    "len(corpus)"
   ]
  },
  {
   "cell_type": "markdown",
   "metadata": {},
   "source": [
    "### LDA Mallet Model with 25 topics (After hyperparamter tuning)"
   ]
  },
  {
   "cell_type": "markdown",
   "metadata": {},
   "source": [
    "To use the lda mallet model, we need to download and unzip the model to your path from http://mallet.cs.umass.edu/dist/mallet-2.0.8.zip"
   ]
  },
  {
   "cell_type": "code",
   "execution_count": 29,
   "metadata": {},
   "outputs": [],
   "source": [
    "mallet_path = 'mallet-2.0.8/bin/mallet' "
   ]
  },
  {
   "cell_type": "code",
   "execution_count": 33,
   "metadata": {},
   "outputs": [],
   "source": [
    "from gensim.models.wrappers import LdaMallet"
   ]
  },
  {
   "cell_type": "code",
   "execution_count": 34,
   "metadata": {},
   "outputs": [
    {
     "name": "stdout",
     "output_type": "stream",
     "text": [
      "121.29909992218018\n"
     ]
    }
   ],
   "source": [
    "start = time.time()\n",
    "ldamallet = gensim.models.wrappers.LdaMallet(mallet_path, corpus=corpus, num_topics=25, id2word=id2text,random_seed=42)\n",
    "end = time.time()\n",
    "print(end-start)"
   ]
  },
  {
   "cell_type": "markdown",
   "metadata": {},
   "source": [
    "* Here is the result of the 25 topics:"
   ]
  },
  {
   "cell_type": "code",
   "execution_count": 35,
   "metadata": {},
   "outputs": [
    {
     "data": {
      "text/plain": [
       "[(0,\n",
       "  '0.023*\"campaign\" + 0.022*\"president\" + 0.017*\"political\" + 0.015*\"election\" + 0.014*\"party\" + 0.013*\"run\" + 0.013*\"trump\" + 0.013*\"vote\" + 0.012*\"candidate\" + 0.010*\"support\"'),\n",
       " (1,\n",
       "  '0.049*\"country\" + 0.032*\"government\" + 0.014*\"official\" + 0.013*\"military\" + 0.013*\"force\" + 0.012*\"leader\" + 0.011*\"nation\" + 0.011*\"border\" + 0.009*\"chinese\" + 0.009*\"security\"'),\n",
       " (2,\n",
       "  '0.031*\"technology\" + 0.021*\"service\" + 0.019*\"industry\" + 0.013*\"solution\" + 0.012*\"global\" + 0.011*\"development\" + 0.011*\"lead\" + 0.010*\"provide\" + 0.010*\"develop\" + 0.009*\"datum\"'),\n",
       " (3,\n",
       "  '0.056*\"woman\" + 0.033*\"child\" + 0.028*\"school\" + 0.026*\"student\" + 0.025*\"family\" + 0.019*\"work\" + 0.018*\"parent\" + 0.016*\"young\" + 0.014*\"kid\" + 0.013*\"college\"'),\n",
       " (4,\n",
       "  '0.045*\"state\" + 0.024*\"law\" + 0.015*\"rule\" + 0.013*\"public\" + 0.012*\"federal\" + 0.011*\"ban\" + 0.011*\"bill\" + 0.011*\"issue\" + 0.010*\"file\" + 0.009*\"decision\"'),\n",
       " (5,\n",
       "  '0.063*\"market\" + 0.032*\"stock\" + 0.028*\"price\" + 0.022*\"share\" + 0.020*\"expect\" + 0.018*\"growth\" + 0.017*\"economy\" + 0.017*\"investor\" + 0.014*\"trade\" + 0.014*\"global\"'),\n",
       " (6,\n",
       "  '0.091*\"report\" + 0.024*\"investigation\" + 0.019*\"public\" + 0.014*\"release\" + 0.011*\"accord\" + 0.011*\"letter\" + 0.010*\"official\" + 0.009*\"information\" + 0.009*\"president\" + 0.009*\"question\"'),\n",
       " (7,\n",
       "  '0.122*\"company\" + 0.058*\"business\" + 0.022*\"brand\" + 0.021*\"store\" + 0.019*\"product\" + 0.018*\"employee\" + 0.017*\"sell\" + 0.017*\"customer\" + 0.016*\"firm\" + 0.015*\"tech\"'),\n",
       " (8,\n",
       "  '0.088*\"time\" + 0.072*\"year\" + 0.041*\"week\" + 0.038*\"day\" + 0.030*\"long\" + 0.020*\"start\" + 0.020*\"open\" + 0.020*\"early\" + 0.019*\"return\" + 0.018*\"close\"'),\n",
       " (9,\n",
       "  '0.035*\"people\" + 0.029*\"kill\" + 0.021*\"attack\" + 0.019*\"die\" + 0.016*\"fire\" + 0.014*\"family\" + 0.013*\"death\" + 0.013*\"home\" + 0.011*\"dead\" + 0.011*\"shoot\"'),\n",
       " (10,\n",
       "  '0.039*\"charge\" + 0.028*\"case\" + 0.024*\"man\" + 0.017*\"arrest\" + 0.015*\"accuse\" + 0.015*\"police\" + 0.013*\"claim\" + 0.012*\"lawyer\" + 0.012*\"court\" + 0.012*\"sentence\"'),\n",
       " (11,\n",
       "  '0.012*\"world\" + 0.011*\"city\" + 0.011*\"open\" + 0.009*\"visit\" + 0.008*\"place\" + 0.008*\"design\" + 0.008*\"include\" + 0.008*\"hotel\" + 0.007*\"room\" + 0.007*\"wear\"'),\n",
       " (12,\n",
       "  '0.026*\"day\" + 0.018*\"image\" + 0.018*\"hit\" + 0.017*\"photo\" + 0.014*\"music\" + 0.014*\"home\" + 0.013*\"year\" + 0.011*\"run\" + 0.011*\"watch\" + 0.011*\"fan\"'),\n",
       " (13,\n",
       "  '0.053*\"game\" + 0.043*\"win\" + 0.043*\"team\" + 0.032*\"season\" + 0.025*\"play\" + 0.023*\"player\" + 0.015*\"point\" + 0.014*\"lead\" + 0.013*\"beat\" + 0.011*\"final\"'),\n",
       " (14,\n",
       "  '0.028*\"car\" + 0.020*\"crash\" + 0.020*\"flight\" + 0.017*\"plane\" + 0.015*\"airline\" + 0.015*\"vehicle\" + 0.013*\"driver\" + 0.013*\"special\" + 0.012*\"fly\" + 0.011*\"board\"'),\n",
       " (15,\n",
       "  '0.019*\"star\" + 0.018*\"series\" + 0.016*\"movie\" + 0.016*\"story\" + 0.015*\"film\" + 0.014*\"play\" + 0.013*\"book\" + 0.012*\"show\" + 0.012*\"big\" + 0.010*\"good\"'),\n",
       " (16,\n",
       "  '0.015*\"area\" + 0.012*\"home\" + 0.011*\"water\" + 0.009*\"city\" + 0.008*\"find\" + 0.007*\"dog\" + 0.007*\"climate_change\" + 0.007*\"large\" + 0.006*\"people\" + 0.006*\"damage\"'),\n",
       " (17,\n",
       "  '0.023*\"video\" + 0.018*\"app\" + 0.017*\"service\" + 0.016*\"user\" + 0.013*\"device\" + 0.013*\"feature\" + 0.013*\"phone\" + 0.012*\"ad\" + 0.012*\"platform\" + 0.012*\"content\"'),\n",
       " (18,\n",
       "  '0.054*\"deal\" + 0.035*\"plan\" + 0.030*\"sign\" + 0.023*\"week\" + 0.020*\"leave\" + 0.015*\"vote\" + 0.013*\"agree\" + 0.011*\"trade\" + 0.011*\"talk\" + 0.010*\"agreement\"'),\n",
       " (19,\n",
       "  '0.108*\"year\" + 0.040*\"high\" + 0.035*\"percent\" + 0.029*\"number\" + 0.026*\"increase\" + 0.025*\"accord\" + 0.023*\"job\" + 0.023*\"change\" + 0.022*\"end\" + 0.020*\"start\"'),\n",
       " (20,\n",
       "  '0.023*\"study\" + 0.017*\"health\" + 0.016*\"patient\" + 0.013*\"people\" + 0.013*\"drug\" + 0.013*\"research\" + 0.012*\"risk\" + 0.011*\"find\" + 0.011*\"care\" + 0.010*\"treatment\"'),\n",
       " (21,\n",
       "  '0.020*\"good\" + 0.017*\"product\" + 0.012*\"food\" + 0.009*\"find\" + 0.008*\"buy\" + 0.007*\"small\" + 0.006*\"make\" + 0.006*\"great\" + 0.006*\"easy\" + 0.005*\"eat\"'),\n",
       " (22,\n",
       "  '0.032*\"people\" + 0.027*\"thing\" + 0.024*\"work\" + 0.018*\"feel\" + 0.014*\"good\" + 0.013*\"time\" + 0.013*\"lot\" + 0.010*\"life\" + 0.009*\"talk\" + 0.009*\"idea\"'),\n",
       " (23,\n",
       "  '0.081*\"announce\" + 0.047*\"today\" + 0.036*\"launch\" + 0.027*\"event\" + 0.025*\"lead\" + 0.022*\"world\" + 0.021*\"follow\" + 0.019*\"end\" + 0.019*\"release\" + 0.018*\"late\"'),\n",
       " (24,\n",
       "  '0.031*\"pay\" + 0.028*\"money\" + 0.018*\"financial\" + 0.018*\"cost\" + 0.015*\"tax\" + 0.015*\"fund\" + 0.015*\"bank\" + 0.014*\"share\" + 0.014*\"offer\" + 0.011*\"investment\"')]"
      ]
     },
     "execution_count": 35,
     "metadata": {},
     "output_type": "execute_result"
    }
   ],
   "source": [
    "ldamallet.show_topics(num_topics=25)"
   ]
  },
  {
   "cell_type": "markdown",
   "metadata": {},
   "source": [
    "### Compute Coherence Score"
   ]
  },
  {
   "cell_type": "markdown",
   "metadata": {},
   "source": [
    "Coherence Score: The larger the coherence score, the better the result is"
   ]
  },
  {
   "cell_type": "code",
   "execution_count": 58,
   "metadata": {},
   "outputs": [
    {
     "name": "stdout",
     "output_type": "stream",
     "text": [
      "coherence score with 25 topics is 0.5533738692702787\n"
     ]
    }
   ],
   "source": [
    "coherence_model_lda = CoherenceModel(model=ldamallet, texts=words_lemmatized, dictionary=id2text, coherence='c_v')\n",
    "coherence_lda = coherence_model_lda.get_coherence()\n",
    "print('coherence score with 25 topics is {}'.format(coherence_lda))"
   ]
  },
  {
   "cell_type": "markdown",
   "metadata": {},
   "source": [
    "### Map the topic back to documents "
   ]
  },
  {
   "cell_type": "code",
   "execution_count": 36,
   "metadata": {},
   "outputs": [
    {
     "data": {
      "text/html": [
       "<div>\n",
       "<style scoped>\n",
       "    .dataframe tbody tr th:only-of-type {\n",
       "        vertical-align: middle;\n",
       "    }\n",
       "\n",
       "    .dataframe tbody tr th {\n",
       "        vertical-align: top;\n",
       "    }\n",
       "\n",
       "    .dataframe thead th {\n",
       "        text-align: right;\n",
       "    }\n",
       "</style>\n",
       "<table border=\"1\" class=\"dataframe\">\n",
       "  <thead>\n",
       "    <tr style=\"text-align: right;\">\n",
       "      <th></th>\n",
       "      <th>Document_No</th>\n",
       "      <th>Dominant_Topic</th>\n",
       "      <th>Topic_Perc_Contrib</th>\n",
       "      <th>Keywords</th>\n",
       "      <th>Text</th>\n",
       "    </tr>\n",
       "  </thead>\n",
       "  <tbody>\n",
       "    <tr>\n",
       "      <th>0</th>\n",
       "      <td>0</td>\n",
       "      <td>5.0</td>\n",
       "      <td>0.1683</td>\n",
       "      <td>market, stock, price, share, expect, growth, e...</td>\n",
       "      <td>Sensex Jumps 270 Points In Early Trade; Nifty ...</td>\n",
       "    </tr>\n",
       "    <tr>\n",
       "      <th>1</th>\n",
       "      <td>1</td>\n",
       "      <td>15.0</td>\n",
       "      <td>0.1796</td>\n",
       "      <td>star, series, movie, story, film, play, book, ...</td>\n",
       "      <td>April Fools' pranks: Some of greatest ever Com...</td>\n",
       "    </tr>\n",
       "    <tr>\n",
       "      <th>2</th>\n",
       "      <td>2</td>\n",
       "      <td>18.0</td>\n",
       "      <td>0.0829</td>\n",
       "      <td>deal, plan, sign, week, leave, vote, agree, tr...</td>\n",
       "      <td>Brexiters cry betrayal but they're the ones to...</td>\n",
       "    </tr>\n",
       "    <tr>\n",
       "      <th>3</th>\n",
       "      <td>3</td>\n",
       "      <td>18.0</td>\n",
       "      <td>0.0904</td>\n",
       "      <td>deal, plan, sign, week, leave, vote, agree, tr...</td>\n",
       "      <td>Brexiters cry betrayal but they're the ones to...</td>\n",
       "    </tr>\n",
       "    <tr>\n",
       "      <th>4</th>\n",
       "      <td>4</td>\n",
       "      <td>1.0</td>\n",
       "      <td>0.1575</td>\n",
       "      <td>country, government, official, military, force...</td>\n",
       "      <td>Japan and Taiwan both scramble jets to confron...</td>\n",
       "    </tr>\n",
       "    <tr>\n",
       "      <th>5</th>\n",
       "      <td>5</td>\n",
       "      <td>1.0</td>\n",
       "      <td>0.1599</td>\n",
       "      <td>country, government, official, military, force...</td>\n",
       "      <td>Japan and Taiwan both scramble jets to confron...</td>\n",
       "    </tr>\n",
       "    <tr>\n",
       "      <th>6</th>\n",
       "      <td>6</td>\n",
       "      <td>0.0</td>\n",
       "      <td>0.2797</td>\n",
       "      <td>campaign, president, political, election, part...</td>\n",
       "      <td>Joe Biden tries to defuse first crisis - CNNPo...</td>\n",
       "    </tr>\n",
       "    <tr>\n",
       "      <th>7</th>\n",
       "      <td>7</td>\n",
       "      <td>0.0</td>\n",
       "      <td>0.2787</td>\n",
       "      <td>campaign, president, political, election, part...</td>\n",
       "      <td>Joe Biden tries to defuse first crisis - CNNPo...</td>\n",
       "    </tr>\n",
       "    <tr>\n",
       "      <th>8</th>\n",
       "      <td>8</td>\n",
       "      <td>10.0</td>\n",
       "      <td>0.1193</td>\n",
       "      <td>charge, case, man, arrest, accuse, police, cla...</td>\n",
       "      <td>Man killed after knocking on wrong door, Atlan...</td>\n",
       "    </tr>\n",
       "    <tr>\n",
       "      <th>9</th>\n",
       "      <td>9</td>\n",
       "      <td>9.0</td>\n",
       "      <td>0.1127</td>\n",
       "      <td>people, kill, attack, die, fire, family, death...</td>\n",
       "      <td>Man killed after knocking on wrong door, Atlan...</td>\n",
       "    </tr>\n",
       "  </tbody>\n",
       "</table>\n",
       "</div>"
      ],
      "text/plain": [
       "   Document_No  Dominant_Topic  Topic_Perc_Contrib  \\\n",
       "0            0             5.0              0.1683   \n",
       "1            1            15.0              0.1796   \n",
       "2            2            18.0              0.0829   \n",
       "3            3            18.0              0.0904   \n",
       "4            4             1.0              0.1575   \n",
       "5            5             1.0              0.1599   \n",
       "6            6             0.0              0.2797   \n",
       "7            7             0.0              0.2787   \n",
       "8            8            10.0              0.1193   \n",
       "9            9             9.0              0.1127   \n",
       "\n",
       "                                            Keywords  \\\n",
       "0  market, stock, price, share, expect, growth, e...   \n",
       "1  star, series, movie, story, film, play, book, ...   \n",
       "2  deal, plan, sign, week, leave, vote, agree, tr...   \n",
       "3  deal, plan, sign, week, leave, vote, agree, tr...   \n",
       "4  country, government, official, military, force...   \n",
       "5  country, government, official, military, force...   \n",
       "6  campaign, president, political, election, part...   \n",
       "7  campaign, president, political, election, part...   \n",
       "8  charge, case, man, arrest, accuse, police, cla...   \n",
       "9  people, kill, attack, die, fire, family, death...   \n",
       "\n",
       "                                                Text  \n",
       "0  Sensex Jumps 270 Points In Early Trade; Nifty ...  \n",
       "1  April Fools' pranks: Some of greatest ever Com...  \n",
       "2  Brexiters cry betrayal but they're the ones to...  \n",
       "3  Brexiters cry betrayal but they're the ones to...  \n",
       "4  Japan and Taiwan both scramble jets to confron...  \n",
       "5  Japan and Taiwan both scramble jets to confron...  \n",
       "6  Joe Biden tries to defuse first crisis - CNNPo...  \n",
       "7  Joe Biden tries to defuse first crisis - CNNPo...  \n",
       "8  Man killed after knocking on wrong door, Atlan...  \n",
       "9  Man killed after knocking on wrong door, Atlan...  "
      ]
     },
     "execution_count": 36,
     "metadata": {},
     "output_type": "execute_result"
    }
   ],
   "source": [
    "def format_topics_sentences(ldamodel, corpus=corpus, texts=train_text):\n",
    "    # Init output\n",
    "    sent_topics_df = pd.DataFrame()\n",
    "\n",
    "    # Get main topic in each document\n",
    "    for i, row in enumerate(ldamodel[corpus]):\n",
    "        row = sorted(row, key=lambda x: (x[1]), reverse=True)\n",
    "        # Get the Dominant topic, Perc Contribution and Keywords for each document\n",
    "        for j, (topic_num, prop_topic) in enumerate(row):\n",
    "            if j == 0:  # => dominant topic\n",
    "                wp = ldamodel.show_topic(topic_num)\n",
    "                topic_keywords = \", \".join([word for word, prop in wp])\n",
    "                sent_topics_df = sent_topics_df.append(pd.Series([int(topic_num), round(prop_topic,4), topic_keywords]), ignore_index=True)\n",
    "            else:\n",
    "                break\n",
    "    sent_topics_df.columns = ['Dominant_Topic', 'Perc_Contribution', 'Topic_Keywords']\n",
    "\n",
    "    # Add original text to the end of the output\n",
    "    contents = pd.Series(texts)\n",
    "    sent_topics_df = pd.concat([sent_topics_df, contents], axis=1)\n",
    "    return(sent_topics_df)\n",
    "\n",
    "\n",
    "df_topic_sents_keywords = format_topics_sentences(ldamodel=ldamallet, corpus=corpus, texts=train_text.values)\n",
    "\n",
    "# Format\n",
    "df_dominant_topic = df_topic_sents_keywords.reset_index()\n",
    "df_dominant_topic.columns = ['Document_No', 'Dominant_Topic', 'Topic_Perc_Contrib', 'Keywords', 'Text']\n",
    "\n",
    "# Show\n",
    "df_dominant_topic.head(10)"
   ]
  },
  {
   "cell_type": "code",
   "execution_count": 42,
   "metadata": {},
   "outputs": [],
   "source": [
    "df = df.drop([13338,47335])\n",
    "df = df.reset_index()"
   ]
  },
  {
   "cell_type": "code",
   "execution_count": 59,
   "metadata": {},
   "outputs": [],
   "source": [
    "result = pd.concat([df,df_dominant_topic[['Dominant_Topic', 'Topic_Perc_Contrib', 'Keywords']]], axis=1)"
   ]
  },
  {
   "cell_type": "code",
   "execution_count": 52,
   "metadata": {},
   "outputs": [
    {
     "data": {
      "text/html": [
       "<div>\n",
       "<style scoped>\n",
       "    .dataframe tbody tr th:only-of-type {\n",
       "        vertical-align: middle;\n",
       "    }\n",
       "\n",
       "    .dataframe tbody tr th {\n",
       "        vertical-align: top;\n",
       "    }\n",
       "\n",
       "    .dataframe thead th {\n",
       "        text-align: right;\n",
       "    }\n",
       "</style>\n",
       "<table border=\"1\" class=\"dataframe\">\n",
       "  <thead>\n",
       "    <tr style=\"text-align: right;\">\n",
       "      <th></th>\n",
       "      <th>index</th>\n",
       "      <th>thread.uuid</th>\n",
       "      <th>author</th>\n",
       "      <th>external_links</th>\n",
       "      <th>published</th>\n",
       "      <th>text</th>\n",
       "      <th>thread.site_full</th>\n",
       "      <th>thread.site_categories</th>\n",
       "      <th>thread.site_section</th>\n",
       "      <th>thread.section_title</th>\n",
       "      <th>thread.main_image</th>\n",
       "      <th>thread.social.facebook.comments</th>\n",
       "      <th>thread.social.facebook.likes</th>\n",
       "      <th>thread.social.facebook.shares</th>\n",
       "      <th>title</th>\n",
       "      <th>url</th>\n",
       "      <th>Dominant_Topic</th>\n",
       "      <th>Topic_Perc_Contrib</th>\n",
       "      <th>Keywords</th>\n",
       "    </tr>\n",
       "  </thead>\n",
       "  <tbody>\n",
       "    <tr>\n",
       "      <th>0</th>\n",
       "      <td>0</td>\n",
       "      <td>7a52f2edf84a687cfc42c0d371573ac06455ad09</td>\n",
       "      <td>RTTNews</td>\n",
       "      <td>[]</td>\n",
       "      <td>2019-04-01T20:28:00.000+03:00</td>\n",
       "      <td>(RTTNews) - Indian shares opened notably highe...</td>\n",
       "      <td>markets.businessinsider.com</td>\n",
       "      <td>['financial_news', 'finance', 'options']</td>\n",
       "      <td>https://markets.businessinsider.com/news</td>\n",
       "      <td>Stock Market News | Financial &amp;amp; Business N...</td>\n",
       "      <td>NaN</td>\n",
       "      <td>0.0</td>\n",
       "      <td>0.0</td>\n",
       "      <td>0.0</td>\n",
       "      <td>Sensex Jumps 270 Points In Early Trade; Nifty ...</td>\n",
       "      <td>https://markets.businessinsider.com/news/stock...</td>\n",
       "      <td>5.0</td>\n",
       "      <td>0.1683</td>\n",
       "      <td>market, stock, price, share, expect, growth, e...</td>\n",
       "    </tr>\n",
       "    <tr>\n",
       "      <th>1</th>\n",
       "      <td>1</td>\n",
       "      <td>96c3d083c027175254e8846137a414ce67802411</td>\n",
       "      <td>Todd Leopold</td>\n",
       "      <td>['http://hoaxes.org/aprilfool/P90', 'http://ww...</td>\n",
       "      <td>2019-04-01T14:38:00.000+03:00</td>\n",
       "      <td>(CNN) April Fools' Day ain't what it used to b...</td>\n",
       "      <td>edition.cnn.com</td>\n",
       "      <td>['media']</td>\n",
       "      <td>http://rss.cnn.com/rss/cnn_latest.rss</td>\n",
       "      <td>CNN.com - RSS Channel</td>\n",
       "      <td>https://cdn.cnn.com/cnnnext/dam/assets/1903281...</td>\n",
       "      <td>0.0</td>\n",
       "      <td>0.0</td>\n",
       "      <td>0.0</td>\n",
       "      <td>April Fools' pranks: Some of greatest ever</td>\n",
       "      <td>https://edition.cnn.com/2019/04/01/us/best-apr...</td>\n",
       "      <td>15.0</td>\n",
       "      <td>0.1796</td>\n",
       "      <td>star, series, movie, story, film, play, book, ...</td>\n",
       "    </tr>\n",
       "    <tr>\n",
       "      <th>2</th>\n",
       "      <td>2</td>\n",
       "      <td>c896d41943bd6ebbe1485906aa77bdfd214bf5de</td>\n",
       "      <td>Jane Merrick, for CNN</td>\n",
       "      <td>['https://get.adobe.com/flashplayer/', 'https:...</td>\n",
       "      <td>2019-04-01T13:50:00.000+03:00</td>\n",
       "      <td>London (CNN) Even with the Brexit countdown cl...</td>\n",
       "      <td>us.cnn.com</td>\n",
       "      <td>['media']</td>\n",
       "      <td>http://us.cnn.com/world</td>\n",
       "      <td>World news – breaking news, videos and headlin...</td>\n",
       "      <td>https://cdn.cnn.com/cnnnext/dam/assets/1903291...</td>\n",
       "      <td>0.0</td>\n",
       "      <td>0.0</td>\n",
       "      <td>0.0</td>\n",
       "      <td>Brexiters cry betrayal but they're the ones to...</td>\n",
       "      <td>http://us.cnn.com/2019/04/01/uk/brexit-may-bet...</td>\n",
       "      <td>18.0</td>\n",
       "      <td>0.0829</td>\n",
       "      <td>deal, plan, sign, week, leave, vote, agree, tr...</td>\n",
       "    </tr>\n",
       "    <tr>\n",
       "      <th>3</th>\n",
       "      <td>3</td>\n",
       "      <td>04b0e6b739c64d0aedc1762949ba5bae7d339cd9</td>\n",
       "      <td>Jane Merrick, for CNN</td>\n",
       "      <td>['https://fave.api.cnn.io/v1/fav/?video=world/...</td>\n",
       "      <td>2019-04-01T13:50:00.000+03:00</td>\n",
       "      <td>London (CNN) Even with the Brexit countdown cl...</td>\n",
       "      <td>edition.cnn.com</td>\n",
       "      <td>['media']</td>\n",
       "      <td>http://rss.cnn.com/rss/cnn_latest</td>\n",
       "      <td>CNN.com - RSS Channel</td>\n",
       "      <td>https://cdn.cnn.com/cnnnext/dam/assets/1903291...</td>\n",
       "      <td>0.0</td>\n",
       "      <td>0.0</td>\n",
       "      <td>0.0</td>\n",
       "      <td>Brexiters cry betrayal but they're the ones to...</td>\n",
       "      <td>https://edition.cnn.com/2019/04/01/uk/brexit-m...</td>\n",
       "      <td>18.0</td>\n",
       "      <td>0.0904</td>\n",
       "      <td>deal, plan, sign, week, leave, vote, agree, tr...</td>\n",
       "    </tr>\n",
       "    <tr>\n",
       "      <th>4</th>\n",
       "      <td>4</td>\n",
       "      <td>2866b68e92d101d4a7afcd1590db295f443caff0</td>\n",
       "      <td>Ben Westcott</td>\n",
       "      <td>['http://english.chinamil.com.cn/view/2019-03/...</td>\n",
       "      <td>2019-04-01T13:30:00.000+03:00</td>\n",
       "      <td>Hong Kong (CNN) Taiwan has accused China of \"r...</td>\n",
       "      <td>edition.cnn.com</td>\n",
       "      <td>['media']</td>\n",
       "      <td>http://rss.cnn.com/rss/edition_asia.rss</td>\n",
       "      <td>CNN.com - RSS Channel - Regions - Asia</td>\n",
       "      <td>https://cdn.cnn.com/cnnnext/dam/assets/1904011...</td>\n",
       "      <td>0.0</td>\n",
       "      <td>0.0</td>\n",
       "      <td>0.0</td>\n",
       "      <td>Japan and Taiwan both scramble jets to confron...</td>\n",
       "      <td>https://edition.cnn.com/2019/04/01/asia/china-...</td>\n",
       "      <td>1.0</td>\n",
       "      <td>0.1575</td>\n",
       "      <td>country, government, official, military, force...</td>\n",
       "    </tr>\n",
       "  </tbody>\n",
       "</table>\n",
       "</div>"
      ],
      "text/plain": [
       "   index                               thread.uuid                 author  \\\n",
       "0      0  7a52f2edf84a687cfc42c0d371573ac06455ad09                RTTNews   \n",
       "1      1  96c3d083c027175254e8846137a414ce67802411           Todd Leopold   \n",
       "2      2  c896d41943bd6ebbe1485906aa77bdfd214bf5de  Jane Merrick, for CNN   \n",
       "3      3  04b0e6b739c64d0aedc1762949ba5bae7d339cd9  Jane Merrick, for CNN   \n",
       "4      4  2866b68e92d101d4a7afcd1590db295f443caff0           Ben Westcott   \n",
       "\n",
       "                                      external_links  \\\n",
       "0                                                 []   \n",
       "1  ['http://hoaxes.org/aprilfool/P90', 'http://ww...   \n",
       "2  ['https://get.adobe.com/flashplayer/', 'https:...   \n",
       "3  ['https://fave.api.cnn.io/v1/fav/?video=world/...   \n",
       "4  ['http://english.chinamil.com.cn/view/2019-03/...   \n",
       "\n",
       "                       published  \\\n",
       "0  2019-04-01T20:28:00.000+03:00   \n",
       "1  2019-04-01T14:38:00.000+03:00   \n",
       "2  2019-04-01T13:50:00.000+03:00   \n",
       "3  2019-04-01T13:50:00.000+03:00   \n",
       "4  2019-04-01T13:30:00.000+03:00   \n",
       "\n",
       "                                                text  \\\n",
       "0  (RTTNews) - Indian shares opened notably highe...   \n",
       "1  (CNN) April Fools' Day ain't what it used to b...   \n",
       "2  London (CNN) Even with the Brexit countdown cl...   \n",
       "3  London (CNN) Even with the Brexit countdown cl...   \n",
       "4  Hong Kong (CNN) Taiwan has accused China of \"r...   \n",
       "\n",
       "              thread.site_full                    thread.site_categories  \\\n",
       "0  markets.businessinsider.com  ['financial_news', 'finance', 'options']   \n",
       "1              edition.cnn.com                                 ['media']   \n",
       "2                   us.cnn.com                                 ['media']   \n",
       "3              edition.cnn.com                                 ['media']   \n",
       "4              edition.cnn.com                                 ['media']   \n",
       "\n",
       "                        thread.site_section  \\\n",
       "0  https://markets.businessinsider.com/news   \n",
       "1     http://rss.cnn.com/rss/cnn_latest.rss   \n",
       "2                   http://us.cnn.com/world   \n",
       "3         http://rss.cnn.com/rss/cnn_latest   \n",
       "4   http://rss.cnn.com/rss/edition_asia.rss   \n",
       "\n",
       "                                thread.section_title  \\\n",
       "0  Stock Market News | Financial &amp; Business N...   \n",
       "1                              CNN.com - RSS Channel   \n",
       "2  World news – breaking news, videos and headlin...   \n",
       "3                              CNN.com - RSS Channel   \n",
       "4             CNN.com - RSS Channel - Regions - Asia   \n",
       "\n",
       "                                   thread.main_image  \\\n",
       "0                                                NaN   \n",
       "1  https://cdn.cnn.com/cnnnext/dam/assets/1903281...   \n",
       "2  https://cdn.cnn.com/cnnnext/dam/assets/1903291...   \n",
       "3  https://cdn.cnn.com/cnnnext/dam/assets/1903291...   \n",
       "4  https://cdn.cnn.com/cnnnext/dam/assets/1904011...   \n",
       "\n",
       "   thread.social.facebook.comments  thread.social.facebook.likes  \\\n",
       "0                              0.0                           0.0   \n",
       "1                              0.0                           0.0   \n",
       "2                              0.0                           0.0   \n",
       "3                              0.0                           0.0   \n",
       "4                              0.0                           0.0   \n",
       "\n",
       "   thread.social.facebook.shares  \\\n",
       "0                            0.0   \n",
       "1                            0.0   \n",
       "2                            0.0   \n",
       "3                            0.0   \n",
       "4                            0.0   \n",
       "\n",
       "                                               title  \\\n",
       "0  Sensex Jumps 270 Points In Early Trade; Nifty ...   \n",
       "1         April Fools' pranks: Some of greatest ever   \n",
       "2  Brexiters cry betrayal but they're the ones to...   \n",
       "3  Brexiters cry betrayal but they're the ones to...   \n",
       "4  Japan and Taiwan both scramble jets to confron...   \n",
       "\n",
       "                                                 url  Dominant_Topic  \\\n",
       "0  https://markets.businessinsider.com/news/stock...             5.0   \n",
       "1  https://edition.cnn.com/2019/04/01/us/best-apr...            15.0   \n",
       "2  http://us.cnn.com/2019/04/01/uk/brexit-may-bet...            18.0   \n",
       "3  https://edition.cnn.com/2019/04/01/uk/brexit-m...            18.0   \n",
       "4  https://edition.cnn.com/2019/04/01/asia/china-...             1.0   \n",
       "\n",
       "   Topic_Perc_Contrib                                           Keywords  \n",
       "0              0.1683  market, stock, price, share, expect, growth, e...  \n",
       "1              0.1796  star, series, movie, story, film, play, book, ...  \n",
       "2              0.0829  deal, plan, sign, week, leave, vote, agree, tr...  \n",
       "3              0.0904  deal, plan, sign, week, leave, vote, agree, tr...  \n",
       "4              0.1575  country, government, official, military, force...  "
      ]
     },
     "execution_count": 52,
     "metadata": {},
     "output_type": "execute_result"
    }
   ],
   "source": [
    "result.head(5)"
   ]
  },
  {
   "cell_type": "markdown",
   "metadata": {},
   "source": [
    "### Save and Load model "
   ]
  },
  {
   "cell_type": "code",
   "execution_count": 53,
   "metadata": {},
   "outputs": [],
   "source": [
    "result.to_csv('result_with_25_topics.csv', index=False)"
   ]
  },
  {
   "cell_type": "code",
   "execution_count": 61,
   "metadata": {},
   "outputs": [],
   "source": [
    "ldamallet.save('lda_mallet.model')"
   ]
  },
  {
   "cell_type": "code",
   "execution_count": 62,
   "metadata": {},
   "outputs": [],
   "source": [
    "model =  gensim.models.wrappers.LdaMallet.load('lda_mallet.model')"
   ]
  },
  {
   "cell_type": "code",
   "execution_count": 63,
   "metadata": {},
   "outputs": [
    {
     "data": {
      "text/plain": [
       "[(0,\n",
       "  '0.023*\"campaign\" + 0.022*\"president\" + 0.017*\"political\" + 0.015*\"election\" + 0.014*\"party\" + 0.013*\"run\" + 0.013*\"trump\" + 0.013*\"vote\" + 0.012*\"candidate\" + 0.010*\"support\"'),\n",
       " (1,\n",
       "  '0.049*\"country\" + 0.032*\"government\" + 0.014*\"official\" + 0.013*\"military\" + 0.013*\"force\" + 0.012*\"leader\" + 0.011*\"nation\" + 0.011*\"border\" + 0.009*\"chinese\" + 0.009*\"security\"'),\n",
       " (2,\n",
       "  '0.031*\"technology\" + 0.021*\"service\" + 0.019*\"industry\" + 0.013*\"solution\" + 0.012*\"global\" + 0.011*\"development\" + 0.011*\"lead\" + 0.010*\"provide\" + 0.010*\"develop\" + 0.009*\"datum\"'),\n",
       " (3,\n",
       "  '0.056*\"woman\" + 0.033*\"child\" + 0.028*\"school\" + 0.026*\"student\" + 0.025*\"family\" + 0.019*\"work\" + 0.018*\"parent\" + 0.016*\"young\" + 0.014*\"kid\" + 0.013*\"college\"'),\n",
       " (4,\n",
       "  '0.045*\"state\" + 0.024*\"law\" + 0.015*\"rule\" + 0.013*\"public\" + 0.012*\"federal\" + 0.011*\"ban\" + 0.011*\"bill\" + 0.011*\"issue\" + 0.010*\"file\" + 0.009*\"decision\"'),\n",
       " (5,\n",
       "  '0.063*\"market\" + 0.032*\"stock\" + 0.028*\"price\" + 0.022*\"share\" + 0.020*\"expect\" + 0.018*\"growth\" + 0.017*\"economy\" + 0.017*\"investor\" + 0.014*\"trade\" + 0.014*\"global\"'),\n",
       " (6,\n",
       "  '0.091*\"report\" + 0.024*\"investigation\" + 0.019*\"public\" + 0.014*\"release\" + 0.011*\"accord\" + 0.011*\"letter\" + 0.010*\"official\" + 0.009*\"information\" + 0.009*\"president\" + 0.009*\"question\"'),\n",
       " (7,\n",
       "  '0.122*\"company\" + 0.058*\"business\" + 0.022*\"brand\" + 0.021*\"store\" + 0.019*\"product\" + 0.018*\"employee\" + 0.017*\"sell\" + 0.017*\"customer\" + 0.016*\"firm\" + 0.015*\"tech\"'),\n",
       " (8,\n",
       "  '0.088*\"time\" + 0.072*\"year\" + 0.041*\"week\" + 0.038*\"day\" + 0.030*\"long\" + 0.020*\"start\" + 0.020*\"open\" + 0.020*\"early\" + 0.019*\"return\" + 0.018*\"close\"'),\n",
       " (9,\n",
       "  '0.035*\"people\" + 0.029*\"kill\" + 0.021*\"attack\" + 0.019*\"die\" + 0.016*\"fire\" + 0.014*\"family\" + 0.013*\"death\" + 0.013*\"home\" + 0.011*\"dead\" + 0.011*\"shoot\"'),\n",
       " (10,\n",
       "  '0.039*\"charge\" + 0.028*\"case\" + 0.024*\"man\" + 0.017*\"arrest\" + 0.015*\"accuse\" + 0.015*\"police\" + 0.013*\"claim\" + 0.012*\"lawyer\" + 0.012*\"court\" + 0.012*\"sentence\"'),\n",
       " (11,\n",
       "  '0.012*\"world\" + 0.011*\"city\" + 0.011*\"open\" + 0.009*\"visit\" + 0.008*\"place\" + 0.008*\"design\" + 0.008*\"include\" + 0.008*\"hotel\" + 0.007*\"room\" + 0.007*\"wear\"'),\n",
       " (12,\n",
       "  '0.026*\"day\" + 0.018*\"image\" + 0.018*\"hit\" + 0.017*\"photo\" + 0.014*\"music\" + 0.014*\"home\" + 0.013*\"year\" + 0.011*\"run\" + 0.011*\"watch\" + 0.011*\"fan\"'),\n",
       " (13,\n",
       "  '0.053*\"game\" + 0.043*\"win\" + 0.043*\"team\" + 0.032*\"season\" + 0.025*\"play\" + 0.023*\"player\" + 0.015*\"point\" + 0.014*\"lead\" + 0.013*\"beat\" + 0.011*\"final\"'),\n",
       " (14,\n",
       "  '0.028*\"car\" + 0.020*\"crash\" + 0.020*\"flight\" + 0.017*\"plane\" + 0.015*\"airline\" + 0.015*\"vehicle\" + 0.013*\"driver\" + 0.013*\"special\" + 0.012*\"fly\" + 0.011*\"board\"'),\n",
       " (15,\n",
       "  '0.019*\"star\" + 0.018*\"series\" + 0.016*\"movie\" + 0.016*\"story\" + 0.015*\"film\" + 0.014*\"play\" + 0.013*\"book\" + 0.012*\"show\" + 0.012*\"big\" + 0.010*\"good\"'),\n",
       " (16,\n",
       "  '0.015*\"area\" + 0.012*\"home\" + 0.011*\"water\" + 0.009*\"city\" + 0.008*\"find\" + 0.007*\"dog\" + 0.007*\"climate_change\" + 0.007*\"large\" + 0.006*\"people\" + 0.006*\"damage\"'),\n",
       " (17,\n",
       "  '0.023*\"video\" + 0.018*\"app\" + 0.017*\"service\" + 0.016*\"user\" + 0.013*\"device\" + 0.013*\"feature\" + 0.013*\"phone\" + 0.012*\"ad\" + 0.012*\"platform\" + 0.012*\"content\"'),\n",
       " (18,\n",
       "  '0.054*\"deal\" + 0.035*\"plan\" + 0.030*\"sign\" + 0.023*\"week\" + 0.020*\"leave\" + 0.015*\"vote\" + 0.013*\"agree\" + 0.011*\"trade\" + 0.011*\"talk\" + 0.010*\"agreement\"'),\n",
       " (19,\n",
       "  '0.108*\"year\" + 0.040*\"high\" + 0.035*\"percent\" + 0.029*\"number\" + 0.026*\"increase\" + 0.025*\"accord\" + 0.023*\"job\" + 0.023*\"change\" + 0.022*\"end\" + 0.020*\"start\"'),\n",
       " (20,\n",
       "  '0.023*\"study\" + 0.017*\"health\" + 0.016*\"patient\" + 0.013*\"people\" + 0.013*\"drug\" + 0.013*\"research\" + 0.012*\"risk\" + 0.011*\"find\" + 0.011*\"care\" + 0.010*\"treatment\"'),\n",
       " (21,\n",
       "  '0.020*\"good\" + 0.017*\"product\" + 0.012*\"food\" + 0.009*\"find\" + 0.008*\"buy\" + 0.007*\"small\" + 0.006*\"make\" + 0.006*\"great\" + 0.006*\"easy\" + 0.005*\"eat\"'),\n",
       " (22,\n",
       "  '0.032*\"people\" + 0.027*\"thing\" + 0.024*\"work\" + 0.018*\"feel\" + 0.014*\"good\" + 0.013*\"time\" + 0.013*\"lot\" + 0.010*\"life\" + 0.009*\"talk\" + 0.009*\"idea\"'),\n",
       " (23,\n",
       "  '0.081*\"announce\" + 0.047*\"today\" + 0.036*\"launch\" + 0.027*\"event\" + 0.025*\"lead\" + 0.022*\"world\" + 0.021*\"follow\" + 0.019*\"end\" + 0.019*\"release\" + 0.018*\"late\"'),\n",
       " (24,\n",
       "  '0.031*\"pay\" + 0.028*\"money\" + 0.018*\"financial\" + 0.018*\"cost\" + 0.015*\"tax\" + 0.015*\"fund\" + 0.015*\"bank\" + 0.014*\"share\" + 0.014*\"offer\" + 0.011*\"investment\"')]"
      ]
     },
     "execution_count": 63,
     "metadata": {},
     "output_type": "execute_result"
    }
   ],
   "source": [
    "model.show_topics(num_topics=25)"
   ]
  },
  {
   "cell_type": "markdown",
   "metadata": {},
   "source": [
    "### Predict New data"
   ]
  },
  {
   "cell_type": "code",
   "execution_count": null,
   "metadata": {},
   "outputs": [],
   "source": [
    "test_texts = train_text.tolist()\n",
    "test_id2text, test_corpus, test_words_lemmatized  = text2corpus(test_texts, num_gram=3)"
   ]
  },
  {
   "cell_type": "code",
   "execution_count": null,
   "metadata": {},
   "outputs": [],
   "source": [
    "df_predict_topcis = format_topics_sentences(ldamodel=ldamallet, corpus=test_corpus, texts=test_texts.values)"
   ]
  }
 ],
 "metadata": {
  "kernelspec": {
   "display_name": "Python 3",
   "language": "python",
   "name": "python3"
  },
  "language_info": {
   "codemirror_mode": {
    "name": "ipython",
    "version": 3
   },
   "file_extension": ".py",
   "mimetype": "text/x-python",
   "name": "python",
   "nbconvert_exporter": "python",
   "pygments_lexer": "ipython3",
   "version": "3.7.2"
  }
 },
 "nbformat": 4,
 "nbformat_minor": 2
}
